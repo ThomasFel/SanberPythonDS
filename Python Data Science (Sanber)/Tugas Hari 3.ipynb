{
 "cells": [
  {
   "cell_type": "markdown",
   "metadata": {
    "colab_type": "text",
    "id": "a9HYUdCUsrKl"
   },
   "source": [
    "<h2>Soal 1: Comparison Operator</h2>\n",
    "\n",
    "- Berikan contoh comparison dari tipe data string\n",
    "- Berikan contoh comparison dari tipe data boolean\n",
    "- Berikan contoh comparison dari tipe data integer"
   ]
  },
  {
   "cell_type": "code",
   "execution_count": 61,
   "metadata": {
    "colab": {},
    "colab_type": "code",
    "id": "lXMCHZ71srKp"
   },
   "outputs": [
    {
     "name": "stdout",
     "output_type": "stream",
     "text": [
      "Comparing Shani with Chika is False\n",
      "\n",
      "Comparing True with False is False\n",
      "\n",
      "8 > 2 is True\n"
     ]
    }
   ],
   "source": [
    "# Comparison tipe data string\n",
    "a = \"Shani\"\n",
    "b = \"Chika\"\n",
    "\n",
    "hasil = a == b\n",
    "print(\"Comparing\", a, \"with\", b, \"is\", hasil)\n",
    "print(\"\")\n",
    "\n",
    "# Comparison tipe data boolean\n",
    "c = True\n",
    "d = False\n",
    "\n",
    "hasil2 = c == d\n",
    "print(\"Comparing\", c, \"with\", d, \"is\", hasil2)\n",
    "print(\"\")\n",
    "\n",
    "# Comparison tipe data integer\n",
    "e = 8\n",
    "f = 2\n",
    "\n",
    "hasil3 = e > f\n",
    "print(e, \">\", f, \"is\", hasil3)"
   ]
  },
  {
   "cell_type": "markdown",
   "metadata": {
    "colab_type": "text",
    "id": "IbNoZvVssrK5"
   },
   "source": [
    "<h2>Soal 2: Boolean Comparison</h2>\n",
    "\n",
    "- Berikan contoh gabungan multiple comparison menggunkan Boolean Comparisin 'and'\n",
    "- Berikan contoh gabungan multiple comparison menggunkan Boolean Comparisin 'or'\n",
    "- Berikan contoh gabungan multiple comparison menggunkan Boolean Comparisin 'not'"
   ]
  },
  {
   "cell_type": "code",
   "execution_count": 76,
   "metadata": {
    "colab": {},
    "colab_type": "code",
    "id": "7eU1vPLCsrK7"
   },
   "outputs": [
    {
     "name": "stdout",
     "output_type": "stream",
     "text": [
      "6 > 8 and 8 > 2 = False\n",
      "\n",
      "2 < 12 or 12 < 10 = True\n",
      "\n",
      "7 > 1 and 4 is not 1 = True\n"
     ]
    }
   ],
   "source": [
    "# Multiple comparison menggunakan \"and\"\n",
    "a = 6\n",
    "b = 8\n",
    "c = 2\n",
    "\n",
    "hasil = a > b and b > c\n",
    "print(a, \">\", b, \"and\", b, \">\", c, \"=\", hasil)\n",
    "print(\"\")\n",
    "\n",
    "# Multiple comparison menggunakan \"or\"\n",
    "d = 2\n",
    "e = 12\n",
    "f = 10\n",
    "\n",
    "hasil2 = d < e or e < f\n",
    "print(d, \"<\", e, \"or\", e, \"<\", f, \"=\", hasil2)\n",
    "print(\"\")\n",
    "\n",
    "# Multiple comparison menggunakan \"not\"\n",
    "g = 7\n",
    "h = 1\n",
    "i = 4\n",
    "\n",
    "hasil3 = g > h and i is not h\n",
    "print(g, \">\", h, \"and\", i, \"is not\", h, \"=\", hasil3)"
   ]
  },
  {
   "cell_type": "markdown",
   "metadata": {
    "colab_type": "text",
    "id": "Yp_g_sPMsrLH"
   },
   "source": [
    "<h2>Soal 3: If-Else Statement</h2>\n",
    "\n",
    "Lengkapi kode untuk menghasilkan suatu output yang di harapkan\n",
    "\n",
    "- Bualah sebuah if-else statement yang dimana akan mem-print 'Besar' jika ruangan adalah 'Kamar' dan ukuran lebih dari 12, kemudian mem-print 'Sedang' jika ruangan adalah 'Kamar' dan ukuran lebih dari 6 dan memprint 'Kecil' jika ruangan adalah 'Kamar' dan ukuran ruangan lebih kecil dan sama dengan 6."
   ]
  },
  {
   "cell_type": "code",
   "execution_count": 10,
   "metadata": {
    "colab": {},
    "colab_type": "code",
    "id": "euRiRNupsrLK"
   },
   "outputs": [
    {
     "name": "stdout",
     "output_type": "stream",
     "text": [
      "Sedang\n"
     ]
    }
   ],
   "source": [
    "ruangan = 'Kamar'\n",
    "size = 20\n",
    "\n",
    "if (ruangan == \"Kamar\" and size > 12):\n",
    "    print('Besar')\n",
    "elif (ruangan == \"Kamar\" and size > 6):\n",
    "    print('Sedang')\n",
    "elif (ruangan == \"Kamar\" and size <= 6):\n",
    "    print('Kecil')"
   ]
  },
  {
   "cell_type": "markdown",
   "metadata": {
    "colab_type": "text",
    "id": "IcoJXJT1srLW"
   },
   "source": [
    "<h2>Soal 4: Comparison Operator dengan fungsi</h2>\n",
    "\n",
    "Buatlah sebuah fungsi yang menerima satu argument bertipe data numeric dan menghasilkan sebuah return sebagai berikut :\n",
    "- menghasilkan return 'Aneh' jika nilai dari argument tersebut adalah bilangan ganjil\n",
    "- menghasilkan return 'Tidak Aneh' jika nilai dari argument tersebut adalah bilangan genap dan diantara nilai 2 sampai 5 (2 dan 5 termasuk)\n",
    "- menghasilkan return 'Aneh' jika nilai dari argument tersebut adalah bilangan genap dan diantara nilai 6 sampai 20 (6 dan 20 termasuk)\n",
    "- menghasilkan return 'Tidak Aneh' jika nilai dari argument tersebut adalah bilangan genap dan lebih besari dari 20"
   ]
  },
  {
   "cell_type": "code",
   "execution_count": 24,
   "metadata": {
    "colab": {},
    "colab_type": "code",
    "id": "g8F_qfEKsrLZ"
   },
   "outputs": [
    {
     "name": "stdout",
     "output_type": "stream",
     "text": [
      "Aneh\n",
      "Tidak Aneh\n",
      "Aneh\n",
      "Tidak Aneh\n"
     ]
    }
   ],
   "source": [
    "def comparison_op (val):\n",
    "    if (val % 2 == 1):\n",
    "        return \"Aneh\"\n",
    "    elif (val % 2 == 0 and 2 <= val <= 5):\n",
    "        return \"Tidak Aneh\"\n",
    "    elif (val % 2 == 0 and 6 <= val <= 20):\n",
    "        return \"Aneh\"\n",
    "    elif (val % 2 == 0 and val > 20):\n",
    "        return \"Tidak Aneh\"\n",
    "\n",
    "print(comparison_op(3))\n",
    "print(comparison_op(4))\n",
    "print(comparison_op(8))\n",
    "print(comparison_op(22))"
   ]
  },
  {
   "cell_type": "markdown",
   "metadata": {
    "colab_type": "text",
    "id": "gf0D64xOsrLl"
   },
   "source": [
    "<h2>Soal 5: While Loop dan For Loop</h2>\n",
    "\n",
    "- Apa perbedaan while loop dan for loop?\n",
    "- Berikan contoh sederhana cara menggunakan while loop dan for loop"
   ]
  },
  {
   "cell_type": "code",
   "execution_count": 47,
   "metadata": {
    "colab": {},
    "colab_type": "code",
    "id": "l7KIgpjHsrLo"
   },
   "outputs": [
    {
     "name": "stdout",
     "output_type": "stream",
     "text": [
      "Contoh for loop: \n",
      "\n",
      "Perulangan ke-0\n",
      "Perulangan ke-1\n",
      "Perulangan ke-2\n",
      "Perulangan ke-3\n",
      "Perulangan ke-4\n",
      "\n",
      "Contoh while loop: \n",
      "\n",
      "Ulang atau tidak?ya\n",
      "Ulang atau tidak?tidak\n",
      "Total perulangan: 2\n",
      "\n"
     ]
    }
   ],
   "source": [
    "# For loop (counted loop) biasanya digunakan untuk mengulangi kode yang sudah diketahui banyak perulangannya.\n",
    "# While loop (uncounted loop) biasanya digunakan untuk perulangan yang memmiliki syarat dan tidak tentu berapa banyak perulangannya.\n",
    "\n",
    "# Contoh for loop:\n",
    "ulang = 5\n",
    "\n",
    "print(\"Contoh for loop: \\n\")\n",
    "\n",
    "for i in range(ulang):\n",
    "    print(\"Perulangan ke-\" + str(i))\n",
    "\n",
    "print(\"\")\n",
    "\n",
    "# Contoh while loop:\n",
    "hitung = 0\n",
    "jawab = \"ya\"\n",
    "\n",
    "print(\"Contoh while loop: \\n\")\n",
    "\n",
    "while (jawab == \"ya\"):\n",
    "    hitung += 1\n",
    "    jawab = input(\"Ulang atau tidak?\")\n",
    "    \n",
    "print(\"Total perulangan: \" + str(hitung))"
   ]
  },
  {
   "cell_type": "markdown",
   "metadata": {
    "colab_type": "text",
    "id": "fZQpBGCgsrLz"
   },
   "source": [
    "<h2>Soal 6: While Loop</h2>\n",
    "    \n",
    "Buatlah sebuah code while loop sebagai berikut :\n",
    "- Buatlah suatu fungsi yang merima satu input nilai numeric\n",
    "- Dalam fungsi, Buat sebuah while-loop dengan melakukan comparasi terhadap inputan tersebut, dimana looping/iterasi terus berjalan apabila nilai inputan tidak sama dengan 0\n",
    "- Dalam setiap iterasi update nilai variable inputan itu, jika input lebih dari 0, maka kurangi variabel tersebut sebesar 1, selain itu tambahkan 1\n",
    "- print nilai variable input dalam setiap awal iterasi"
   ]
  },
  {
   "cell_type": "code",
   "execution_count": 34,
   "metadata": {
    "colab": {},
    "colab_type": "code",
    "id": "yOiqjrU2srL1"
   },
   "outputs": [
    {
     "name": "stdout",
     "output_type": "stream",
     "text": [
      "10\n",
      "\n",
      "9\n",
      "\n",
      "8\n",
      "\n",
      "7\n",
      "\n",
      "6\n",
      "\n",
      "5\n",
      "\n",
      "4\n",
      "\n",
      "3\n",
      "\n",
      "2\n",
      "\n",
      "1\n",
      "\n"
     ]
    }
   ],
   "source": [
    "a = 10\n",
    "\n",
    "def fungsi_while(val):\n",
    "    while (val != 0):\n",
    "        print(val)\n",
    "        print('')\n",
    "        if (val > 0):\n",
    "            val -= 1\n",
    "        else:\n",
    "            val += 1\n",
    "\n",
    "fungsi_while(a)"
   ]
  },
  {
   "cell_type": "markdown",
   "metadata": {
    "colab_type": "text",
    "id": "lKzngRrlsrMD"
   },
   "source": [
    "Expected Output:\n",
    "\n",
    "10\n",
    "\n",
    "9\n",
    "\n",
    "8\n",
    "\n",
    "7\n",
    "\n",
    "6\n",
    "\n",
    "5\n",
    "\n",
    "4\n",
    "\n",
    "3\n",
    "\n",
    "2\n",
    "\n",
    "1"
   ]
  },
  {
   "cell_type": "markdown",
   "metadata": {
    "colab_type": "text",
    "id": "IWg3Z_zZsrMG"
   },
   "source": [
    "<h2>Soal 7: For Loop</h2>\n",
    "    \n",
    "Lengkapi kode untuk menghasilkan suatu output yang di harapkan:\n",
    "\n",
    "- Buatlah sebuah loop dengan mengiterasi sebuah objek list kemudian di kalikan dengan index dari list tersebut dan print hasilnya"
   ]
  },
  {
   "cell_type": "code",
   "execution_count": 37,
   "metadata": {
    "colab": {},
    "colab_type": "code",
    "id": "_Jl5i7WKsrMI"
   },
   "outputs": [
    {
     "name": "stdout",
     "output_type": "stream",
     "text": [
      "0\n",
      "\n",
      "16\n",
      "\n",
      "22\n",
      "\n",
      "30\n",
      "\n",
      "20\n",
      "\n"
     ]
    }
   ],
   "source": [
    "obj_list= [1, 16, 11, 10, 5]\n",
    "\n",
    "for i in range(len(obj_list)):\n",
    "    print(obj_list[i] * i)\n",
    "    print('')\n"
   ]
  },
  {
   "cell_type": "markdown",
   "metadata": {
    "colab_type": "text",
    "id": "OGawROjnsrMU"
   },
   "source": [
    "Expected Output:\n",
    "\n",
    "0\n",
    "\n",
    "16\n",
    "\n",
    "22\n",
    "\n",
    "30\n",
    "\n",
    "20\n"
   ]
  }
 ],
 "metadata": {
  "colab": {
   "name": "Tugas Hari 4.ipynb",
   "provenance": []
  },
  "kernelspec": {
   "display_name": "Python 3",
   "language": "python",
   "name": "python3"
  },
  "language_info": {
   "codemirror_mode": {
    "name": "ipython",
    "version": 3
   },
   "file_extension": ".py",
   "mimetype": "text/x-python",
   "name": "python",
   "nbconvert_exporter": "python",
   "pygments_lexer": "ipython3",
   "version": "3.7.6"
  }
 },
 "nbformat": 4,
 "nbformat_minor": 1
}
