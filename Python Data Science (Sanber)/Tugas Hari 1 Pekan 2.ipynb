{
 "cells": [
  {
   "cell_type": "markdown",
   "metadata": {
    "colab_type": "text",
    "id": "s6LccGLI5deK"
   },
   "source": [
    "<h2>Soal 1: Membuat Objek DataFrames</h2>\n",
    "\n",
    "- Buatlah objek dataframes dari objek dictionary, Bebas!"
   ]
  },
  {
   "cell_type": "code",
   "execution_count": 1,
   "metadata": {
    "colab": {},
    "colab_type": "code",
    "id": "V2jNr8n-5deM"
   },
   "outputs": [
    {
     "data": {
      "text/html": [
       "<div>\n",
       "<style scoped>\n",
       "    .dataframe tbody tr th:only-of-type {\n",
       "        vertical-align: middle;\n",
       "    }\n",
       "\n",
       "    .dataframe tbody tr th {\n",
       "        vertical-align: top;\n",
       "    }\n",
       "\n",
       "    .dataframe thead th {\n",
       "        text-align: right;\n",
       "    }\n",
       "</style>\n",
       "<table border=\"1\" class=\"dataframe\">\n",
       "  <thead>\n",
       "    <tr style=\"text-align: right;\">\n",
       "      <th></th>\n",
       "      <th>name</th>\n",
       "      <th>age</th>\n",
       "      <th>team</th>\n",
       "    </tr>\n",
       "  </thead>\n",
       "  <tbody>\n",
       "    <tr>\n",
       "      <th>1</th>\n",
       "      <td>Shani</td>\n",
       "      <td>21</td>\n",
       "      <td>KIII</td>\n",
       "    </tr>\n",
       "    <tr>\n",
       "      <th>2</th>\n",
       "      <td>Eve</td>\n",
       "      <td>16</td>\n",
       "      <td>J</td>\n",
       "    </tr>\n",
       "    <tr>\n",
       "      <th>3</th>\n",
       "      <td>Freya</td>\n",
       "      <td>14</td>\n",
       "      <td>T</td>\n",
       "    </tr>\n",
       "  </tbody>\n",
       "</table>\n",
       "</div>"
      ],
      "text/plain": [
       "    name  age  team\n",
       "1  Shani   21  KIII\n",
       "2    Eve   16     J\n",
       "3  Freya   14     T"
      ]
     },
     "metadata": {},
     "output_type": "display_data"
    }
   ],
   "source": [
    "# Membuat dataframes dari dictionary\n",
    "\n",
    "import pandas as pd\n",
    "\n",
    "memberData = {\n",
    "    'name' : ['Shani', 'Eve', 'Freya'],\n",
    "    'age' : [21, 16, 14],\n",
    "    'team' : ['KIII', 'J', 'T']\n",
    "}\n",
    "\n",
    "df = pd.DataFrame(memberData, index=['1', '2', '3'])\n",
    "\n",
    "print(df)"
   ]
  },
  {
   "cell_type": "markdown",
   "metadata": {
    "colab_type": "text",
    "id": "KWEFNf9B5deX"
   },
   "source": [
    "<h2>Soal 2: Membaca data dari file</h2>\n",
    "\n",
    "Download file bernama [diamonds.csv](https://drive.google.com/uc?export=download&id=1qQiM9utQUThTPq8jk8stPMh_y2zfqYOd), kemudian baca data tersebut dan assign ke dalam suatu variabel kemudian print."
   ]
  },
  {
   "cell_type": "code",
   "execution_count": 7,
   "metadata": {
    "colab": {},
    "colab_type": "code",
    "id": "Jy2KtDNs5deZ"
   },
   "outputs": [],
   "source": [
    "# Membaca data dan memasukannya kedalam suatu variabel\n",
    "\n",
    "df = pd.read_csv('diamonds-1.csv')"
   ]
  },
  {
   "cell_type": "markdown",
   "metadata": {
    "colab_type": "text",
    "id": "1o9m_N295del"
   },
   "source": [
    "Expected Result:\n",
    "\n",
    "![alt text](https://drive.google.com/uc?id=1BvgM5mJEVfj0fllrjkBfQwn0QIFkry_t)"
   ]
  },
  {
   "cell_type": "markdown",
   "metadata": {
    "colab_type": "text",
    "id": "LtLWF_Ot5deo"
   },
   "source": [
    "<h2>Soal 3: DataFrame vs Series</h2>\n",
    "\n",
    "- Apa perbedaan Series dengan list dan dictionary\n",
    "- Apa perbedaan dataframe dan series\n",
    "- Buatlah suatu data series"
   ]
  },
  {
   "cell_type": "markdown",
   "metadata": {
    "colab_type": "text",
    "id": "6F2EDcPp5der"
   },
   "source": [
    "Jawab: \n",
    "\n",
    "1. Perbedaan Series dengan List dan Dictionary\n",
    "- Series bisa mempunyai key yang duplikat.\n",
    "- Series memiliki kemampuan untuk slicing data, tidak seperti Dict.\n",
    "- Ketika di-print Series menampilkan beserta Index, sedangkan List hanya menampilkan data.\n",
    "- Index Series tidak harus integer (bisa 'a', 'b', 'c'), sedangkan List harus integer.\n",
    "\n",
    "2. Perbedaan Dataframe dengan Series\n",
    "- Series adalah suatu objek satu dimensi yang dapat menyimpan berbagai jenis tipe data seperti integer, string, dan lain sebagainya. Tipe data dari objek series ini harus seragam.\n",
    "- DataFrame adalah suatu objek 2 dimensi tempat menyimpan data dengan lebih terstruktur. Dataframe memiliki 2 index, yaitu index baris dan index columns. Dalam satu column, dataframe harus memiliki tipe data yang sama, tapi antar column, dataframe bisa memiliki jenis data yang berbeda."
   ]
  },
  {
   "cell_type": "code",
   "execution_count": 4,
   "metadata": {
    "colab": {},
    "colab_type": "code",
    "id": "RBPrIKlZ5dev"
   },
   "outputs": [
    {
     "name": "stdout",
     "output_type": "stream",
     "text": [
      "a    5\n",
      "b    2\n",
      "c    3\n",
      "d    7\n",
      "dtype: int64\n"
     ]
    }
   ],
   "source": [
    "# Data Series\n",
    "\n",
    "data = pd.Series([5, 2, 3, 7], index=['a', 'b', 'c', 'd'])\n",
    "\n",
    "print(data)"
   ]
  },
  {
   "cell_type": "markdown",
   "metadata": {
    "colab_type": "text",
    "id": "JNuHgN945de8"
   },
   "source": [
    "<h2>Soal 4: Pemeriksaan Data Sederhana</h2>\n",
    "\n",
    "Di soal no 2 kamu telah membaca data tentang diamonds. pada soal ini cobalah suatu metode dari pandas untuk mengetahui beberapa data pertama dan beberapa data terakhir. kemudian sebutkan nilai dari:\n",
    "- baris pertama dari column price\n",
    "- baris terakhir dari column color\n",
    "\n",
    "tunjukan cara kalian menemukan nilai tersebut di block di bawah ini."
   ]
  },
  {
   "cell_type": "code",
   "execution_count": 8,
   "metadata": {
    "colab": {},
    "colab_type": "code",
    "id": "MRvNarxL5de-"
   },
   "outputs": [
    {
     "name": "stdout",
     "output_type": "stream",
     "text": [
      "326\n",
      "D\n"
     ]
    }
   ],
   "source": [
    "# Baris pertama dari column price\n",
    "\n",
    "print(df.iloc[0]['price'])\n",
    "\n",
    "# Baris terakhir dari column color\n",
    "print(df.iloc[-1]['color'])"
   ]
  },
  {
   "cell_type": "markdown",
   "metadata": {
    "colab_type": "text",
    "id": "q-u9QIjJ5dfK"
   },
   "source": [
    "<h2>Soal 5: Deskriptif Statistik</h2>\n",
    "\n",
    "Jelaskan apa itu deskriptis statistik!"
   ]
  },
  {
   "cell_type": "markdown",
   "metadata": {
    "colab_type": "text",
    "id": "iKTeB5Gd5dfM"
   },
   "source": [
    "Jawab:\n",
    "\n",
    "Statistika deskriptif merupakan suatu metode yang berhubungan dengan pengumpulan atau penyajian data sampai memberi informasi yang berguna.\n",
    "\n",
    "Untuk contoh dari statistika deskriptif sendiri antara lain:\n",
    "- tabel\n",
    "- diagram\n",
    "- grafik\n",
    "- besaran-besaran lain dalam majalah dan koran-koran.\n",
    "\n",
    "Dengan menggunakan statistika deskriptif, berbagai kumpulan data bisa tersaji dengan ringkas dan juga rapi serta mampu memberikan informasi inti dari kumpulan data yang ada.\n",
    "\n",
    "Penyajian data dalam kategori deskriptif bisa berupa grafis dan numerik:\n",
    "\n",
    "1. Penyajian Data dalam Bentuk Grafis\n",
    "    - Histogram\n",
    "    - Pie Chart\n",
    "    - Poligon\n",
    "    - Ogive\n",
    "    - Diagram Batang Daun (Stem and Leaf)\n",
    "2. Penyajian Data Numerik\n",
    "    - Central Tredency\n",
    "    - Dispersion (Pencaran)\n",
    "    - Fractile\n",
    "    - Skewness\n",
    "    - Pengukuran Keruncingan"
   ]
  },
  {
   "cell_type": "markdown",
   "metadata": {
    "colab_type": "text",
    "id": "5SKD0rNu5dfP"
   },
   "source": [
    "<h2>Soal 6: Practice Deskriptif Statistik</h2>\n",
    "\n",
    "- Gunakan suatu metode dari pandas untuk mengetahui deskriptif statistik dari suatu data\n",
    "- Berapa nilai rata-rata dari column price\n",
    "- Berapa nilai standar deviasi dari column depth\n",
    "- Berapa nilai maximum dari column carat"
   ]
  },
  {
   "cell_type": "code",
   "execution_count": 14,
   "metadata": {
    "colab": {},
    "colab_type": "code",
    "id": "giNtJG9Y5dfS",
    "scrolled": true
   },
   "outputs": [
    {
     "name": "stdout",
     "output_type": "stream",
     "text": [
      "3932.799721913237\n",
      "1.4326213188337733\n",
      "5.01\n"
     ]
    }
   ],
   "source": [
    "# code here\n",
    "\n",
    "print(df['price'].mean())\n",
    "print(df['depth'].std())\n",
    "print(df['carat'].max())"
   ]
  },
  {
   "cell_type": "markdown",
   "metadata": {
    "colab_type": "text",
    "id": "M6miZVtG5dfd"
   },
   "source": [
    "Jawab:\n",
    "\n",
    "Setelah menggunakan metode Pandas, didapat statistik deskriptif:\n",
    "\n",
    "- Nilai rata-rata dari kolom price sebesar 3932.799721913237.\n",
    "- Nilai standar deviasi dari kolom depth sebesar 1.4326213188337733.\n",
    "- Nilai maksimum dari kolom carat sebesar 5.01"
   ]
  }
 ],
 "metadata": {
  "colab": {
   "name": "Tugas Hari 1 Pekan 2.ipynb",
   "provenance": []
  },
  "kernelspec": {
   "display_name": "Python 3",
   "language": "python",
   "name": "python3"
  },
  "language_info": {
   "codemirror_mode": {
    "name": "ipython",
    "version": 3
   },
   "file_extension": ".py",
   "mimetype": "text/x-python",
   "name": "python",
   "nbconvert_exporter": "python",
   "pygments_lexer": "ipython3",
   "version": "3.7.6"
  }
 },
 "nbformat": 4,
 "nbformat_minor": 1
}
