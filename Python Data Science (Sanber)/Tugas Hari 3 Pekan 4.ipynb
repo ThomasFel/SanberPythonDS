{
 "cells": [
  {
   "cell_type": "markdown",
   "metadata": {
    "colab_type": "text",
    "id": "PrQVcF-ldGWQ"
   },
   "source": [
    "<h1> Soal 1: Pemahaman Tentang Model Evaluasi</h1>\n",
    "\n",
    "Jawab pertanyaan di bawah ini dengan bahasa masing-masing?\n",
    "\n",
    "1. Apa perbedaan antara data latih, data validasi, dan data test?\n",
    "2. Bagaimana cara kita menilai performa suatu model?\n",
    "3. Apa itu Confusion Matrix? Jelaskan secara lengkap!\n",
    "4. Apa itu Classification Report dari sklearn?"
   ]
  },
  {
   "cell_type": "markdown",
   "metadata": {
    "colab_type": "text",
    "id": "sr6D5UIhgpwO"
   },
   "source": [
    "Jawab:\n",
    "\n",
    "1. Data latih adalah data yang digunakan untuk training model. Data validasi adalah data yang digunakan untuk proses validasi model dan mencegah overfitting. Data tes adalah data yang digunakan untuk testing model, sebagai simulasi penggunaan model pada dunia nyata dan tidak boleh pernah dilihat oleh model sebelumnya.\n",
    "\n",
    "\n",
    "2. Semakin tepat sebuah hasil dalam menggambarkan actual values dan predict values dengan memperhatikan jenis hasil (True / False), semakin baik pula performa suatu model.\n",
    "\n",
    "\n",
    "3. Confusion matrix / error matrix adalah tabel matriks yang menggambarkan kinerja model klasifikasi pada serangkaian data uji yang nilai sebenarnya diketahui. Confusion matrix memberikan informasi perbandingan hasil klarifikasi yang dilakukan oleh sistem (model) dengan hasil klarifikasi sebenarnya. Terdapat 4 istilah sebagai representasi hasil proses klasifikasi pada confusion matrix:\n",
    "   - True Positive (TP) -> Merupakan data positif yang diprediksi benar. \n",
    "   - True Negative (TN) -> Merupakan data negatif yang diprediksi benar. \n",
    "   - False Postive (FP) — Type I Error -> Merupakan data negatif namun diprediksi sebagai data positif.\n",
    "   - False Negative (FN) — Type II Error -> Merupakan data positif namun diprediksi sebagai data negatif.\n",
    "\n",
    "\n",
    "4. Clasiffication Report adalah sebuah method dari sklearn yang membantu dalam menghasilkan nilai keakuratan dari sebuah model dan terbagi menjadi 4: \n",
    "   - Precision adalah rasio prediksi benar positif dibandingkan dengan keseluruhan hasil yang diprediksi positif.\n",
    "   - Recall merupakan rasio prediksi benar positif dibandingkan dengan keseluruhan data yang benar positif.\n",
    "   - F1 Score merupakan perbandingan rata-rata presisi dan recall yang dibobotkan.\n",
    "   - Support adalah jumlah kejadian y_true dalam setiap class."
   ]
  },
  {
   "cell_type": "markdown",
   "metadata": {
    "colab_type": "text",
    "id": "uY-s7-KDgrkV"
   },
   "source": [
    "---"
   ]
  },
  {
   "cell_type": "markdown",
   "metadata": {
    "colab_type": "text",
    "id": "Fv2TVsgAdGWY"
   },
   "source": [
    "<h1>Soal 2: Aplikasi Model Evaluasi</h1>\n",
    "\n",
    "Kali ini kita akan menggunakan data untuk memprediksi kelangsungan hidup pasien yang telah mengalami operasi payudara. Dengan informasi yang dimiliki terkait pasien, kita akan membuat model untuk memprediksi apakah pasien akan bertahan hidup dalam waktu lebih dari 5 tahun atau tidak.\n",
    "\n",
    "Lebih Lengkapnya kalian bisa membaca informasi tentang dataset di link berikut: https://raw.githubusercontent.com/jbrownlee/Datasets/master/haberman.names\n",
    "\n",
    "Buat model Klasifikasi (Model/Algoritma Bebas) untuk memprediksi status pasien dengan ketentuan sebagai berikut:\n",
    "\n",
    "1. Bagi kedua data ini menjadi data training dan data test dengan test_size=0.25.\n",
    "3. Pelajar tentang metrics roc_auc_score kemudian buatlah model dan evaluasi dengan menggunakan teknik cross-validation dengan scoring 'roc_auc'. Baca https://scikit-learn.org/stable/modules/generated/sklearn.model_selection.cross_val_score.html untuk menggunakan metric roc_auc saat cross-validation.\n",
    "3. Berapa score rata2 dari model dengan teknik cross-validation tersebut?\n",
    "4. Prediksi data test dengan model yang telah kalian buat!\n",
    "5. Bagaimana hasil confusion matrix dari hasil prediksi tersebut?\n",
    "6. Bagaimana classification report dari hasil prediksi tersebut?\n",
    "5. Seberapa baik model anda dalam memprediksi seorang pasien mempunyai status positive?\n",
    "6. Seberapa baik model anda dalam memprediksi seorang pasien mempunyai status negatif?"
   ]
  },
  {
   "cell_type": "code",
   "execution_count": 1,
   "metadata": {
    "colab": {},
    "colab_type": "code",
    "id": "g4UqaWyPdGWj"
   },
   "outputs": [],
   "source": [
    "import pandas as pd\n",
    "\n",
    "url = 'https://raw.githubusercontent.com/jbrownlee/Datasets/master/haberman.csv'\n",
    "list_cols = ['Age', \"Patient's Years\", \"N_positive_ax\", \"survival_status\"]\n",
    "df = pd.read_csv(url, names=list_cols)"
   ]
  },
  {
   "cell_type": "code",
   "execution_count": 2,
   "metadata": {
    "colab": {},
    "colab_type": "code",
    "id": "YrbPNGtHdGXV"
   },
   "outputs": [
    {
     "data": {
      "text/html": [
       "<div>\n",
       "<style scoped>\n",
       "    .dataframe tbody tr th:only-of-type {\n",
       "        vertical-align: middle;\n",
       "    }\n",
       "\n",
       "    .dataframe tbody tr th {\n",
       "        vertical-align: top;\n",
       "    }\n",
       "\n",
       "    .dataframe thead th {\n",
       "        text-align: right;\n",
       "    }\n",
       "</style>\n",
       "<table border=\"1\" class=\"dataframe\">\n",
       "  <thead>\n",
       "    <tr style=\"text-align: right;\">\n",
       "      <th></th>\n",
       "      <th>Age</th>\n",
       "      <th>Patient's Years</th>\n",
       "      <th>N_positive_ax</th>\n",
       "      <th>survival_status</th>\n",
       "    </tr>\n",
       "  </thead>\n",
       "  <tbody>\n",
       "    <tr>\n",
       "      <th>0</th>\n",
       "      <td>30</td>\n",
       "      <td>64</td>\n",
       "      <td>1</td>\n",
       "      <td>1</td>\n",
       "    </tr>\n",
       "    <tr>\n",
       "      <th>1</th>\n",
       "      <td>30</td>\n",
       "      <td>62</td>\n",
       "      <td>3</td>\n",
       "      <td>1</td>\n",
       "    </tr>\n",
       "    <tr>\n",
       "      <th>2</th>\n",
       "      <td>30</td>\n",
       "      <td>65</td>\n",
       "      <td>0</td>\n",
       "      <td>1</td>\n",
       "    </tr>\n",
       "    <tr>\n",
       "      <th>3</th>\n",
       "      <td>31</td>\n",
       "      <td>59</td>\n",
       "      <td>2</td>\n",
       "      <td>1</td>\n",
       "    </tr>\n",
       "    <tr>\n",
       "      <th>4</th>\n",
       "      <td>31</td>\n",
       "      <td>65</td>\n",
       "      <td>4</td>\n",
       "      <td>1</td>\n",
       "    </tr>\n",
       "  </tbody>\n",
       "</table>\n",
       "</div>"
      ],
      "text/plain": [
       "   Age  Patient's Years  N_positive_ax  survival_status\n",
       "0   30               64              1                1\n",
       "1   30               62              3                1\n",
       "2   30               65              0                1\n",
       "3   31               59              2                1\n",
       "4   31               65              4                1"
      ]
     },
     "execution_count": 2,
     "metadata": {},
     "output_type": "execute_result"
    }
   ],
   "source": [
    "df.head()"
   ]
  },
  {
   "cell_type": "code",
   "execution_count": 3,
   "metadata": {
    "colab": {},
    "colab_type": "code",
    "id": "-dxYNPg7dGX4"
   },
   "outputs": [
    {
     "data": {
      "text/plain": [
       "1    225\n",
       "2     81\n",
       "Name: survival_status, dtype: int64"
      ]
     },
     "execution_count": 3,
     "metadata": {},
     "output_type": "execute_result"
    }
   ],
   "source": [
    "df['survival_status'].value_counts()"
   ]
  },
  {
   "cell_type": "code",
   "execution_count": 23,
   "metadata": {
    "colab": {},
    "colab_type": "code",
    "id": "8W2amvZgdGYX"
   },
   "outputs": [
    {
     "name": "stdout",
     "output_type": "stream",
     "text": [
      "Score rata-rata model: 0.6771851851851852\n",
      "\n",
      "Hasil confusion_matrix: \n",
      "[[57  8]\n",
      " [ 7  5]]\n",
      "\n",
      "Classification report dari hasil prediksi: \n",
      "              precision    recall  f1-score   support\n",
      "\n",
      "           1       0.89      0.88      0.88        65\n",
      "           2       0.38      0.42      0.40        12\n",
      "\n",
      "    accuracy                           0.81        77\n",
      "   macro avg       0.64      0.65      0.64        77\n",
      "weighted avg       0.81      0.81      0.81        77\n",
      "\n",
      "Keakuratan / precision model untuk seorang pasien berstatus positif adalah 64%.\n",
      "\n",
      "Keakuratan / precision model untuk seorang pasien berstatus negatif adalah 80%.\n"
     ]
    }
   ],
   "source": [
    "import numpy as np\n",
    "from sklearn.neighbors import KNeighborsClassifier\n",
    "from sklearn.model_selection import train_test_split, cross_val_score\n",
    "from sklearn.metrics import confusion_matrix, classification_report\n",
    "\n",
    "x = df.drop(labels = 'survival_status', axis = 1)\n",
    "y = df['survival_status']\n",
    "\n",
    "x_train, x_test, y_train, y_test = train_test_split(x, y, test_size = 0.25)\n",
    "model_knn = KNeighborsClassifier(n_neighbors = 13)\n",
    "\n",
    "cross_val_result = cross_val_score(model_knn, x, y, scoring='roc_auc', cv = 15)\n",
    "\n",
    "print(f'Score rata-rata model: {cross_val_result.mean()}\\n')\n",
    "\n",
    "model_knn.fit(x_train, y_train)\n",
    "y_predict = model_knn.predict(x_test)\n",
    "\n",
    "print(f'Hasil confusion_matrix: \\n{confusion_matrix(y_test, y_predict)}\\n')\n",
    "print(f'Classification report dari hasil prediksi: \\n{classification_report(y_test, y_predict)}')\n",
    "\n",
    "#Karena atribut survival_status = 1 menandakan pasien yang bertahan selama 5 tahun atau lebih, maka status dianggap negatif.\n",
    "print('Keakuratan / precision model untuk seorang pasien berstatus positif adalah 64%.\\n')\n",
    "print('Keakuratan / precision model untuk seorang pasien berstatus negatif adalah 80%.')"
   ]
  },
  {
   "cell_type": "markdown",
   "metadata": {
    "colab_type": "text",
    "id": "I6v_dgoN-7wL"
   },
   "source": [
    "---"
   ]
  },
  {
   "cell_type": "markdown",
   "metadata": {
    "colab_type": "text",
    "id": "teekoyIw--g2"
   },
   "source": [
    "<h1> Soal 3: Pemahaman Tentang Model Selection</h1>\n",
    "\n",
    "Jelaskan dengan bahasa sendiri!\n",
    "\n",
    "1. Apa itu Bias dan Variance?\n",
    "2. Apa itu Overfitting dan Underfitting?\n",
    "3. Apa yang bisa kita lakukan untuk mengatur kompleksitas dari model?\n",
    "4. Bagaimana model yang baik?\n",
    "5. Kapan kita menggunakan GridSearchcv dan kapan menggunakan RandomizedSearchCV?"
   ]
  },
  {
   "cell_type": "markdown",
   "metadata": {
    "colab_type": "text",
    "id": "4a1l4RNf_FcU"
   },
   "source": [
    "Jawab:\n",
    "\n",
    "1. Bias adalah perbedaan antara rata rata hasil prediksi dari model Machine Learning yang kita develop dengan data nilai yang sebenarnya. Sedangkan variance adalah variabel dari prediksi model untuk data tertentu dalam memberikan informasi perserbaran data.\n",
    "\n",
    "\n",
    "2. Overfitting adalah suatu keadaan dimana data yang digunakan untuk pelatihan itu adalah yang \"terbaik\" sehingga apabila dilakukan tes dengan menggunakan data yang berbeda dapat mengurangi akurasi (hasil yang dibuat tidak sesuai yang diharapkan). Sedangkan, Underfitting adalah keadaan ketika model pelatihan data yang dibuat tidak mewakilkan keseluruhan data yang akan digunakan nantinya sehingga menghasilkan performa yang buruk dalam pelatihan data. \n",
    "\n",
    "\n",
    "3. Mengusahakan Bias Error dan Variance Error agar nilainya kecil atau mencari nilai tengah / trade off agar kompleksitas bisa berada di tengah-tengah dan berjalan optimal.\n",
    "\n",
    "\n",
    "4. Model yang baik adalah model yang memiliki Bias Error yang kecil dan Variance Error yang kecil.\n",
    "\n",
    "\n",
    "5. Jika ingin mendapat data yang terbaik sebaiknya menggunakan GridSearchcv, namun akan membutuhkan waktu (runtime) yang agak lama sehingga mengurangi efisiensi karena data akan dicek satu per satu. Jika ingin mendapat data dengan cepat sebaiknya menggunakan RandomizedSearchCV, namun di sisi lain juga keakuratan data yang akan diperoleh menurun drastis."
   ]
  },
  {
   "cell_type": "markdown",
   "metadata": {
    "colab_type": "text",
    "id": "Svj_cgxF_IZv"
   },
   "source": [
    "---"
   ]
  },
  {
   "cell_type": "markdown",
   "metadata": {
    "colab_type": "text",
    "id": "Hkh-PeRL_LZp"
   },
   "source": [
    "<h1> Soal 4: Aplikasi Model Selection</h1>\n",
    "\n",
    "1. Bagi kedua data berikut ini menjadi data training dan data test dengan test_size=0.25.\n",
    "2. Gunakan algoritma KNN sebagai model classifier.\n",
    "3. Gunakan fungsi GridSearchCV untuk hyperparameter tuning dan model selection.\n",
    "4. jumlah fold bebas!, gunakan scoring 'roc_auc'\n",
    "5. Definisikan kombinasi hyperparameter untuk model selection dengan GridSearchCV. kombinasi Hyperparameter bebas, baca lagi dokumentasi KNN di link berikut https://scikit-learn.org/stable/modules/generated/sklearn.neighbors.KNeighborsClassifier.html untuk memahami lagi jenis2 hyperparameter di algorithma KNN.\n",
    "6. Latih model terhadap data training.\n",
    "7. Apa hyperparameter terbaik untuk kombinasi hyperparameter kalian?\n",
    "8. Berapa score validasi terbaik dari model tersebut?\n",
    "9. Prediksi probabilitasi output dari model yang telah di buat terhadap data test. note : gunakan method .predict_proba() untuk menghasilkan output probabilitas\n",
    "10. Perhatikan bahwa hasil prediksi ada 2, dimana masing2 adalah nilai probabilitas untuk setiap class label. Ambil nilai probabilitas pasien phositive meninggal dalam waktu kurang dari 5 tahun. note : gunakan bantuan attirubte .classes_ untuk mengetahui urutan label dari hasil prediksi probabilitas.\n",
    "11. Berapa nilai score roc_auc untuk data test?\n",
    "12. Apakah model anda termasuk baik, overtting, atau underfitting?\n",
    "13. Ulangi tahap di atas namun kali ini menggunakan algoritma DecisionTreeClassifier dan kalian bisa menggunakan RandomizedSearchCV apabila process training lama. pelajari algoritma DecisionTreeClassifier di linkberikut: https://scikit-learn.org/stable/modules/generated/sklearn.tree.DecisionTreeClassifier.html?highlight=decisiontreeclassifier#sklearn.tree.DecisionTreeClassifier\n",
    "14. Bandingkan scorenya dengan Algoritma KNN, mana yang lebih baik?\n",
    "\n",
    "Note : Data Science adalah experiment, sangat di dimungkinkan memerlukan beberapa kali percobaan untuk mendapatkan hasil yang terbaik! Happy Coding :)"
   ]
  },
  {
   "cell_type": "code",
   "execution_count": 24,
   "metadata": {
    "colab": {},
    "colab_type": "code",
    "id": "l_zK8Mqb-9Z6"
   },
   "outputs": [],
   "source": [
    "import pandas as pd\n",
    "\n",
    "url = 'https://raw.githubusercontent.com/jbrownlee/Datasets/master/haberman.csv'\n",
    "list_cols = ['Age', \"Patient's Years\", \"N_positive_ax\", \"survival_status\"]\n",
    "df = pd.read_csv(url, names=list_cols)"
   ]
  },
  {
   "cell_type": "code",
   "execution_count": 25,
   "metadata": {
    "colab": {},
    "colab_type": "code",
    "id": "qb-AD43R_V_d"
   },
   "outputs": [
    {
     "data": {
      "text/html": [
       "<div>\n",
       "<style scoped>\n",
       "    .dataframe tbody tr th:only-of-type {\n",
       "        vertical-align: middle;\n",
       "    }\n",
       "\n",
       "    .dataframe tbody tr th {\n",
       "        vertical-align: top;\n",
       "    }\n",
       "\n",
       "    .dataframe thead th {\n",
       "        text-align: right;\n",
       "    }\n",
       "</style>\n",
       "<table border=\"1\" class=\"dataframe\">\n",
       "  <thead>\n",
       "    <tr style=\"text-align: right;\">\n",
       "      <th></th>\n",
       "      <th>Age</th>\n",
       "      <th>Patient's Years</th>\n",
       "      <th>N_positive_ax</th>\n",
       "      <th>survival_status</th>\n",
       "    </tr>\n",
       "  </thead>\n",
       "  <tbody>\n",
       "    <tr>\n",
       "      <th>0</th>\n",
       "      <td>30</td>\n",
       "      <td>64</td>\n",
       "      <td>1</td>\n",
       "      <td>1</td>\n",
       "    </tr>\n",
       "    <tr>\n",
       "      <th>1</th>\n",
       "      <td>30</td>\n",
       "      <td>62</td>\n",
       "      <td>3</td>\n",
       "      <td>1</td>\n",
       "    </tr>\n",
       "    <tr>\n",
       "      <th>2</th>\n",
       "      <td>30</td>\n",
       "      <td>65</td>\n",
       "      <td>0</td>\n",
       "      <td>1</td>\n",
       "    </tr>\n",
       "    <tr>\n",
       "      <th>3</th>\n",
       "      <td>31</td>\n",
       "      <td>59</td>\n",
       "      <td>2</td>\n",
       "      <td>1</td>\n",
       "    </tr>\n",
       "    <tr>\n",
       "      <th>4</th>\n",
       "      <td>31</td>\n",
       "      <td>65</td>\n",
       "      <td>4</td>\n",
       "      <td>1</td>\n",
       "    </tr>\n",
       "  </tbody>\n",
       "</table>\n",
       "</div>"
      ],
      "text/plain": [
       "   Age  Patient's Years  N_positive_ax  survival_status\n",
       "0   30               64              1                1\n",
       "1   30               62              3                1\n",
       "2   30               65              0                1\n",
       "3   31               59              2                1\n",
       "4   31               65              4                1"
      ]
     },
     "execution_count": 25,
     "metadata": {},
     "output_type": "execute_result"
    }
   ],
   "source": [
    "df.head()"
   ]
  },
  {
   "cell_type": "code",
   "execution_count": 54,
   "metadata": {
    "colab": {},
    "colab_type": "code",
    "id": "znc1dEGO_XU2"
   },
   "outputs": [
    {
     "name": "stdout",
     "output_type": "stream",
     "text": [
      "Hyperparameter terbaik dari kombinasi hyperparameter: {'n_neighbors': 48, 'weights': 'uniform'}\n",
      "\n",
      "Score validasi terbaik dari model: 0.7359903381642512\n"
     ]
    }
   ],
   "source": [
    "import numpy as np\n",
    "from sklearn.neighbors import KNeighborsClassifier\n",
    "from sklearn.model_selection import train_test_split\n",
    "from sklearn.model_selection import GridSearchCV, RandomizedSearchCV\n",
    "\n",
    "x = df.drop(labels = 'survival_status', axis = 1)\n",
    "y = df['survival_status']\n",
    "\n",
    "x_train, x_test, y_train, y_test = train_test_split(x, y, test_size = 0.25)\n",
    "\n",
    "model_knn = KNeighborsClassifier()\n",
    "param_grids = {'n_neighbors': np.arange(10, 50), 'weights': ['uniform', 'distance']}\n",
    "gscv = GridSearchCV(model_knn, param_grids, scoring = 'roc_auc', cv = 10)\n",
    "gscv.fit(x, y)\n",
    "\n",
    "print(f'Hyperparameter terbaik dari kombinasi hyperparameter: {gscv.best_params_}\\n')\n",
    "print(f'Score validasi terbaik dari model: {gscv.best_score_}')"
   ]
  },
  {
   "cell_type": "code",
   "execution_count": 60,
   "metadata": {},
   "outputs": [
    {
     "name": "stdout",
     "output_type": "stream",
     "text": [
      "[1 2]\n",
      "\n",
      "Probabilitas pasien positif meninggal dalam waktu kurang dari 5 tahun: \n",
      "[0.16666667 0.14583333 0.125      0.22916667 0.20833333 0.1875\n",
      " 0.22916667 0.27083333 0.29166667 0.25       0.54166667 0.3125\n",
      " 0.20833333 0.22916667 0.1875     0.27083333 0.20833333 0.29166667\n",
      " 0.20833333 0.1875     0.20833333 0.16666667 0.16666667 0.16666667\n",
      " 0.22916667 0.16666667 0.14583333 0.25       0.1875     0.20833333\n",
      " 0.29166667 0.1875     0.27083333 0.27083333 0.1875     0.20833333\n",
      " 0.14583333 0.29166667 0.22916667 0.1875     0.27083333 0.22916667\n",
      " 0.1875     0.1875     0.33333333 0.27083333 0.1875     0.35416667\n",
      " 0.45833333 0.25       0.1875     0.16666667 0.41666667 0.1875\n",
      " 0.25       0.14583333 0.16666667 0.1875     0.22916667 0.52083333\n",
      " 0.16666667 0.16666667 0.1875     0.20833333 0.16666667 0.22916667\n",
      " 0.14583333 0.41666667 0.25       0.20833333 0.22916667 0.52083333\n",
      " 0.22916667 0.52083333 0.16666667 0.27083333 0.22916667]\n",
      "\n",
      "ROC_AUC: 0.725517890772128\n",
      "\n",
      "Maka, model termasuk baik\n"
     ]
    }
   ],
   "source": [
    "from sklearn.metrics import roc_auc_score\n",
    "\n",
    "model_knn2 = KNeighborsClassifier(n_neighbors = 48, weights='uniform')\n",
    "model_knn2.fit(x_train, y_train)\n",
    "prob = model_knn2.predict_proba(x_test)\n",
    "\n",
    "print(model_knn2.classes_)\n",
    "\n",
    "#Class[1] = pasien meninggal kurang dari 5 tahun\n",
    "print(f'\\nProbabilitas pasien positif meninggal dalam waktu kurang dari 5 tahun: \\n{prob[:, 1]}\\n')\n",
    "print(f'ROC_AUC: {roc_auc_score(y_test, prob[:, 1])}\\n')\n",
    "print('Maka, model termasuk baik')"
   ]
  },
  {
   "cell_type": "code",
   "execution_count": 56,
   "metadata": {},
   "outputs": [
    {
     "name": "stdout",
     "output_type": "stream",
     "text": [
      "Hyperparameter terbaik dari kombinasi hyperparameter: {'splitter': 'random', 'max_depth': 6, 'criterion': 'gini'}\n",
      "\n",
      "Score validasi terbaik dari model: 0.6734272068511198\n"
     ]
    }
   ],
   "source": [
    "from sklearn.tree import DecisionTreeClassifier\n",
    "\n",
    "model_dtc = DecisionTreeClassifier()\n",
    "param_grids = {'criterion': ['gini', 'entropy'], 'splitter': ['best', 'random'], 'max_depth': np.arange(2, 10)}\n",
    "rscv = RandomizedSearchCV(model_dtc, param_grids, scoring='roc_auc', cv = 10)\n",
    "rscv.fit(x, y)\n",
    "\n",
    "print(f'Hyperparameter terbaik dari kombinasi hyperparameter: {rscv.best_params_}\\n')\n",
    "print(f'Score validasi terbaik dari model: {rscv.best_score_}')"
   ]
  },
  {
   "cell_type": "code",
   "execution_count": 57,
   "metadata": {},
   "outputs": [
    {
     "name": "stdout",
     "output_type": "stream",
     "text": [
      "[1 2]\n",
      "\n",
      "Probabilitas pasien positif meninggal dalam waktu kurang dari 5 tahun: \n",
      "[0.36842105 0.15625    0.2        0.36842105 0.15625    0.36363636\n",
      " 0.15625    0.15625    0.27586207 0.64       1.         0.15625\n",
      " 0.15625    0.27586207 0.15625    0.15625    0.         0.15625\n",
      " 0.15625    0.         0.27586207 0.2        0.15625    0.15625\n",
      " 0.27586207 0.2        0.2        0.36363636 0.27586207 0.15625\n",
      " 0.15625    0.15625    0.64       0.27586207 0.15625    0.15625\n",
      " 0.15625    0.64       0.15625    0.36842105 0.15625    0.15625\n",
      " 0.15625    0.11111111 0.27586207 0.         0.15625    0.64\n",
      " 0.27586207 0.36842105 0.         0.15625    0.         0.36842105\n",
      " 0.36363636 0.2        0.15625    0.15625    0.15625    0.64\n",
      " 0.15625    0.33333333 0.15625    0.27586207 0.15625    0.15625\n",
      " 0.15625    0.64       0.64       0.33333333 0.         1.\n",
      " 0.27586207 0.         0.15625    0.15625    0.27586207]\n",
      "\n",
      "ROC_AUC: 0.5499058380414311\n",
      "\n",
      "Maka, model termasuk underfit\n"
     ]
    }
   ],
   "source": [
    "model_dtc2 = DecisionTreeClassifier(splitter = 'random', max_depth = 5, criterion = 'gini')\n",
    "model_dtc2.fit(x_train, y_train)\n",
    "prob = model_dtc2.predict_proba(x_test)\n",
    "\n",
    "print(model_dtc2.classes_)\n",
    "\n",
    "#Class[1] = pasien meninggal kurang dari 5 tahun\n",
    "print(f'\\nProbabilitas pasien positif meninggal dalam waktu kurang dari 5 tahun: \\n{prob[:, 1]}\\n')\n",
    "print(f'ROC_AUC: {roc_auc_score(y_test, prob[:, 1])}\\n')\n",
    "print('Maka, model termasuk underfit')"
   ]
  },
  {
   "cell_type": "code",
   "execution_count": null,
   "metadata": {},
   "outputs": [],
   "source": []
  }
 ],
 "metadata": {
  "colab": {
   "collapsed_sections": [],
   "name": "Tugas Hari 3 Pekan 4.ipynb",
   "provenance": []
  },
  "kernelspec": {
   "display_name": "Python 3",
   "language": "python",
   "name": "python3"
  },
  "language_info": {
   "codemirror_mode": {
    "name": "ipython",
    "version": 3
   },
   "file_extension": ".py",
   "mimetype": "text/x-python",
   "name": "python",
   "nbconvert_exporter": "python",
   "pygments_lexer": "ipython3",
   "version": "3.7.6"
  }
 },
 "nbformat": 4,
 "nbformat_minor": 1
}
